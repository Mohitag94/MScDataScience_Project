{
 "cells": [
  {
   "cell_type": "code",
   "execution_count": 1,
   "metadata": {},
   "outputs": [
    {
     "name": "stderr",
     "output_type": "stream",
     "text": [
      "[nltk_data] Downloading package maxent_ne_chunker to\n",
      "[nltk_data]     C:\\Users\\agarw\\AppData\\Roaming\\nltk_data...\n",
      "[nltk_data]   Package maxent_ne_chunker is already up-to-date!\n",
      "[nltk_data] Downloading package words to\n",
      "[nltk_data]     C:\\Users\\agarw\\AppData\\Roaming\\nltk_data...\n",
      "[nltk_data]   Package words is already up-to-date!\n",
      "[nltk_data] Downloading package stopwords to\n",
      "[nltk_data]     C:\\Users\\agarw\\AppData\\Roaming\\nltk_data...\n",
      "[nltk_data]   Package stopwords is already up-to-date!\n"
     ]
    },
    {
     "name": "stdout",
     "output_type": "stream",
     "text": [
      "The length of the training data:  7500\n",
      "The length of the testing data:  4500\n",
      "The length of the validation data:  3000\n"
     ]
    }
   ],
   "source": [
    "import ipynb.fs.full.preprocess_eda as preprocess"
   ]
  },
  {
   "cell_type": "code",
   "execution_count": 2,
   "metadata": {},
   "outputs": [],
   "source": [
    "from deep_translator import GoogleTranslator"
   ]
  },
  {
   "cell_type": "code",
   "execution_count": null,
   "metadata": {},
   "outputs": [],
   "source": [
    "import os"
   ]
  },
  {
   "cell_type": "code",
   "execution_count": 38,
   "metadata": {},
   "outputs": [],
   "source": [
    "PATH = r\"D:\\MScDataScience\\7.Data_Science_Project\\SourceCode\\augment_data\\Back_Translation\"\n",
    "traget_languages = [\"hi\", \"fr\", \"de\", \"es\"]"
   ]
  },
  {
   "cell_type": "code",
   "execution_count": 49,
   "metadata": {},
   "outputs": [],
   "source": [
    "class back_translate():\n",
    "    def __init__(self, traget_languages, path, data):\n",
    "        self.traget_languages = traget_languages\n",
    "        self.path = path\n",
    "        self.data = data\n",
    "\n",
    "    def google_translate(self, original_text, traget):\n",
    "        translated_text = GoogleTranslator(source=\"en\", target=traget).translate_batch(original_text)\n",
    "        return GoogleTranslator(source=traget, target=\"en\").translate_batch(translated_text)\n",
    "    \n",
    "    def augment(self):\n",
    "        original_text = self.data.iloc[:, 0].to_list()\n",
    "        labels = self.data.iloc[:, 1]\n",
    "        for traget in self.traget_languages:\n",
    "            print(f\"[INFO] Augmenting data using language {traget} ...\")\n",
    "            preprocess.pd.DataFrame({\n",
    "                \"Query\": self.google_translate(original_text, traget),\n",
    "                \"Intent\": labels\n",
    "            }).to_csv(os.path.join(self.path, \n",
    "                                   f\"back_translation_augment_data_{traget}.csv\"))\n",
    "            print(\"\\t Augmented and saved to the disk.\")"
   ]
  },
  {
   "cell_type": "code",
   "execution_count": 50,
   "metadata": {},
   "outputs": [],
   "source": [
    "translate_augment = back_translate(traget_languages, PATH, preprocess.train_df)"
   ]
  },
  {
   "cell_type": "code",
   "execution_count": null,
   "metadata": {},
   "outputs": [
    {
     "name": "stdout",
     "output_type": "stream",
     "text": [
      "[INFO] Augmenting data using language hi ...\n"
     ]
    }
   ],
   "source": [
    "translate_augment.augment()"
   ]
  },
  {
   "cell_type": "code",
   "execution_count": null,
   "metadata": {},
   "outputs": [],
   "source": []
  }
 ],
 "metadata": {
  "kernelspec": {
   "display_name": "Python 3",
   "language": "python",
   "name": "python3"
  },
  "language_info": {
   "codemirror_mode": {
    "name": "ipython",
    "version": 3
   },
   "file_extension": ".py",
   "mimetype": "text/x-python",
   "name": "python",
   "nbconvert_exporter": "python",
   "pygments_lexer": "ipython3",
   "version": "3.12.3"
  }
 },
 "nbformat": 4,
 "nbformat_minor": 2
}
